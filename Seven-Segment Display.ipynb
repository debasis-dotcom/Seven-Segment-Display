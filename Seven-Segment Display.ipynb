{
 "cells": [
  {
   "cell_type": "code",
   "execution_count": 10,
   "metadata": {},
   "outputs": [
    {
     "name": "stdout",
     "output_type": "stream",
     "text": [
      "Please enter a number 67432\n",
      "The largest possible number is 71111111111 \n"
     ]
    }
   ],
   "source": [
    "def sev_seg_format(x):\n",
    "    \n",
    "    s=str(x)\n",
    "    l=[]\n",
    "    \n",
    "    for i in s:\n",
    "        if i==\"1\":\n",
    "            i=2\n",
    "            l.append(i)\n",
    "        if i==\"2\":\n",
    "            i=5\n",
    "            l.append(i)\n",
    "        if i==\"3\":\n",
    "            i=5\n",
    "            l.append(i)\n",
    "        if i==\"4\":\n",
    "            i=4\n",
    "            l.append(i)\n",
    "        if i==\"5\":\n",
    "            i=5\n",
    "            l.append(i)\n",
    "        if i==\"6\":\n",
    "            i=6\n",
    "            l.append(i)\n",
    "        if i==\"7\":\n",
    "            i=3\n",
    "            l.append(i)\n",
    "        if i==\"8\":\n",
    "            i=7\n",
    "            l.append(i)\n",
    "        if i==\"9\":\n",
    "            i=6\n",
    "            l.append(i)\n",
    "        if i==\"0\":\n",
    "            i=6\n",
    "            l.append(i)\n",
    "            \n",
    "    y=sum(l)\n",
    "    \n",
    "    if (y%2)==0:\n",
    "        print(\"The largest possible number is {} \".format(int(str(1)*int(y/2))))\n",
    "    else:\n",
    "        print(\"The largest possible number is {} \".format(int(str(7)+str(1)*(int(y/2)-1))))\n",
    "        \n",
    "x=int(input(\"Please enter a number \"))\n",
    "sev_seg_format(x)"
   ]
  },
  {
   "cell_type": "raw",
   "metadata": {},
   "source": []
  }
 ],
 "metadata": {
  "kernelspec": {
   "display_name": "Python 3",
   "language": "python",
   "name": "python3"
  },
  "language_info": {
   "codemirror_mode": {
    "name": "ipython",
    "version": 3
   },
   "file_extension": ".py",
   "mimetype": "text/x-python",
   "name": "python",
   "nbconvert_exporter": "python",
   "pygments_lexer": "ipython3",
   "version": "3.7.3"
  }
 },
 "nbformat": 4,
 "nbformat_minor": 2
}
